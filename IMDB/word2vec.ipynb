{
 "cells": [
  {
   "cell_type": "code",
   "execution_count": 3,
   "metadata": {},
   "outputs": [
    {
     "name": "stdout",
     "output_type": "stream",
     "text": [
      "Read 25000 labeled train reviews, 25000 labeled test reviews and 50000 unlabeled reviews\n",
      "\n"
     ]
    }
   ],
   "source": [
    "'''\n",
    "首先，我们用[pandas]读取数据，就像我们在第1部分中所做的那样。\n",
    "与第1部分不同，我们现在使用unlabeledTrain.tsv，其中包含50,000个没有标签的额外评论。\n",
    "由于Word2Vec可以从未标记的数据中学习，现在可以使用这些额外的50,000条评论。\n",
    "'''\n",
    "import pandas as pd\n",
    "\n",
    "# Read data from files \n",
    "train = pd.read_csv( \"data/labeledTrainData.tsv\", header=0, delimiter=\"\\t\", quoting=3 )\n",
    "test = pd.read_csv( \"data/testData.tsv\", header=0, delimiter=\"\\t\", quoting=3 )\n",
    "unlabeled_train = pd.read_csv( \"data/unlabeledTrainData.tsv\", header=0, delimiter=\"\\t\", quoting=3 )\n",
    "\n",
    "# Verify the number of reviews that were read (100,000 in total)\n",
    "print(\"Read %d labeled train reviews, %d labeled test reviews and %d unlabeled reviews\\n\" % (train[\"review\"].size, \\\n",
    "                test[\"review\"].size, unlabeled_train[\"review\"].size) )"
   ]
  },
  {
   "cell_type": "code",
   "execution_count": 4,
   "metadata": {
    "collapsed": true
   },
   "outputs": [],
   "source": [
    "'''\n",
    "我们编写的用于清理数据的函数也类似于第1部分，尽管现在有一些差异。\n",
    "首先，为了训练Word2Vec，最好不要去掉停用词，因为算法依赖于更广泛的句子上下文来产生高质量的词向量\n",
    "'''\n",
    "\n",
    "# Import various modules for string cleaning\n",
    "from bs4 import BeautifulSoup\n",
    "import re\n",
    "from nltk.corpus import stopwords\n",
    "\n",
    "def review_to_wordlist( review, remove_stopwords=False ):\n",
    "    # Function to convert a document to a sequence of words,\n",
    "    # optionally removing stop words.  Returns a list of words.\n",
    "    # 将文档转换为一系列单词的功能，可选地删除停用词。 返回单词列表。\n",
    "    # 1. Remove HTML\n",
    "    review_text = BeautifulSoup(review).get_text()\n",
    "    #  \n",
    "    # 2. Remove non-letters\n",
    "    review_text = re.sub(\"[^a-zA-Z]\",\" \", review_text)\n",
    "    #\n",
    "    # 3. Convert words to lower case and split them\n",
    "    words = review_text.lower().split()\n",
    "    #\n",
    "    # 4. Optionally remove stop words (false by default)\n",
    "    if remove_stopwords:\n",
    "        stops = set(stopwords.words(\"english\"))\n",
    "        words = [w for w in words if not w in stops]\n",
    "    #\n",
    "    # 5. Return a list of words\n",
    "    return(words)"
   ]
  },
  {
   "cell_type": "code",
   "execution_count": 5,
   "metadata": {},
   "outputs": [
    {
     "name": "stdout",
     "output_type": "stream",
     "text": [
      "showing info https://raw.githubusercontent.com/nltk/nltk_data/gh-pages/index.xml\n"
     ]
    }
   ],
   "source": [
    "'''\n",
    "接下来，我们需要一个特定的输入格式。\n",
    "Word2Vec期望单个句子，每个单词作为单词列表。 换句话说，输入格式是一个列表的列表(a list of list)。\n",
    "如何将一个段落分成句子并不是一帆风顺的。\n",
    "自然语言中有各种各样的陷阱。 英语句子可以 以 “？”，“！”，“”“或 ”。“结尾，间距和大写也不是可靠的指南。\n",
    "因此，我们将使用NLTK的punkt标记器进行句子分割 。为了使用这个，你需要安装NLTK并使用 nltk.download（）来下载punkt的相关训练文件。\n",
    "'''\n",
    "# Download the punkt tokenizer for sentence splitting\n",
    "import nltk.data\n",
    "nltk.download()   \n",
    "\n",
    "# Load the punkt tokenizer\n",
    "tokenizer = nltk.data.load('tokenizers/punkt/english.pickle')\n",
    "\n",
    "# Define a function to split a review into parsed sentences\n",
    "def review_to_sentences( review, tokenizer, remove_stopwords=False ):\n",
    "    # Function to split a review into parsed sentences. Returns a \n",
    "    # list of sentences, where each sentence is a list of words\n",
    "    #\n",
    "    # 1. Use the NLTK tokenizer to split the paragraph into sentences\n",
    "    raw_sentences = tokenizer.tokenize(review.strip())\n",
    "    #\n",
    "    # 2. Loop over each sentence\n",
    "    sentences = []\n",
    "    for raw_sentence in raw_sentences:\n",
    "        # If a sentence is empty, skip it\n",
    "        if len(raw_sentence) > 0:\n",
    "            # Otherwise, call review_to_wordlist to get a list of words\n",
    "            sentences.append( review_to_wordlist( raw_sentence, remove_stopwords ))\n",
    "    #\n",
    "    # Return the list of sentences (each sentence is a list of words,\n",
    "    # so this returns a list of lists\n",
    "    return sentences"
   ]
  },
  {
   "cell_type": "code",
   "execution_count": 6,
   "metadata": {
    "scrolled": true
   },
   "outputs": [
    {
     "name": "stdout",
     "output_type": "stream",
     "text": [
      "Parsing sentences from training set\n"
     ]
    },
    {
     "name": "stderr",
     "output_type": "stream",
     "text": [
      "/home/hao/anaconda3/lib/python3.6/site-packages/bs4/__init__.py:181: UserWarning: No parser was explicitly specified, so I'm using the best available HTML parser for this system (\"lxml\"). This usually isn't a problem, but if you run this code on another system, or in a different virtual environment, it may use a different parser and behave differently.\n",
      "\n",
      "The code that caused this warning is on line 193 of the file /home/hao/anaconda3/lib/python3.6/runpy.py. To get rid of this warning, change code that looks like this:\n",
      "\n",
      " BeautifulSoup(YOUR_MARKUP})\n",
      "\n",
      "to this:\n",
      "\n",
      " BeautifulSoup(YOUR_MARKUP, \"lxml\")\n",
      "\n",
      "  markup_type=markup_type))\n",
      "/home/hao/anaconda3/lib/python3.6/site-packages/bs4/__init__.py:219: UserWarning: \"b'.'\" looks like a filename, not markup. You should probably open this file and pass the filehandle into Beautiful Soup.\n",
      "  ' Beautiful Soup.' % markup)\n",
      "/home/hao/anaconda3/lib/python3.6/site-packages/bs4/__init__.py:282: UserWarning: \"http://www.happierabroad.com\"\" looks like a URL. Beautiful Soup is not an HTTP client. You should probably use an HTTP client like requests to get the document behind the URL, and feed that document to Beautiful Soup.\n",
      "  ' that document to Beautiful Soup.' % decoded_markup\n"
     ]
    },
    {
     "name": "stdout",
     "output_type": "stream",
     "text": [
      "finished\n",
      "Parsing sentences from unlabeled set\n"
     ]
    },
    {
     "name": "stderr",
     "output_type": "stream",
     "text": [
      "/home/hao/anaconda3/lib/python3.6/site-packages/bs4/__init__.py:282: UserWarning: \"http://www.archive.org/details/LovefromaStranger\"\" looks like a URL. Beautiful Soup is not an HTTP client. You should probably use an HTTP client like requests to get the document behind the URL, and feed that document to Beautiful Soup.\n",
      "  ' that document to Beautiful Soup.' % decoded_markup\n",
      "/home/hao/anaconda3/lib/python3.6/site-packages/bs4/__init__.py:282: UserWarning: \"http://www.loosechangeguide.com/LooseChangeGuide.html\"\" looks like a URL. Beautiful Soup is not an HTTP client. You should probably use an HTTP client like requests to get the document behind the URL, and feed that document to Beautiful Soup.\n",
      "  ' that document to Beautiful Soup.' % decoded_markup\n",
      "/home/hao/anaconda3/lib/python3.6/site-packages/bs4/__init__.py:282: UserWarning: \"http://www.msnbc.msn.com/id/4972055/site/newsweek/\"\" looks like a URL. Beautiful Soup is not an HTTP client. You should probably use an HTTP client like requests to get the document behind the URL, and feed that document to Beautiful Soup.\n",
      "  ' that document to Beautiful Soup.' % decoded_markup\n",
      "/home/hao/anaconda3/lib/python3.6/site-packages/bs4/__init__.py:219: UserWarning: \"b'..'\" looks like a filename, not markup. You should probably open this file and pass the filehandle into Beautiful Soup.\n",
      "  ' Beautiful Soup.' % markup)\n",
      "/home/hao/anaconda3/lib/python3.6/site-packages/bs4/__init__.py:282: UserWarning: \"http://www.youtube.com/watch?v=a0KSqelmgN8\"\" looks like a URL. Beautiful Soup is not an HTTP client. You should probably use an HTTP client like requests to get the document behind the URL, and feed that document to Beautiful Soup.\n",
      "  ' that document to Beautiful Soup.' % decoded_markup\n",
      "/home/hao/anaconda3/lib/python3.6/site-packages/bs4/__init__.py:282: UserWarning: \"http://jake-weird.blogspot.com/2007/08/beneath.html\"\" looks like a URL. Beautiful Soup is not an HTTP client. You should probably use an HTTP client like requests to get the document behind the URL, and feed that document to Beautiful Soup.\n",
      "  ' that document to Beautiful Soup.' % decoded_markup\n"
     ]
    },
    {
     "name": "stdout",
     "output_type": "stream",
     "text": [
      "finished\n"
     ]
    }
   ],
   "source": [
    "# apply this function to prepare our data for input to Word2Vec\n",
    "sentences = []  # Initialize an empty list of sentences\n",
    "\n",
    "print(\"Parsing sentences from training set\")\n",
    "for review in train[\"review\"]:\n",
    "    sentences += review_to_sentences(review, tokenizer)\n",
    "print(\"finished\")\n",
    "print(\"Parsing sentences from unlabeled set\")\n",
    "for review in unlabeled_train[\"review\"]:\n",
    "    sentences += review_to_sentences(review, tokenizer)\n",
    "print(\"finished\")\n",
    "\n",
    "'''\n",
    "这里要注意 += 和 append\n",
    "需要注意的细节是Python列表中“+ =”和“append”的区别。 在许多应用中，两者是可以互换的，但是在这里它们不是。 \n",
    "如果您将列表追加到列表的另一个列表中，“append”将只追加第一个列表; 你需要使用“+ =”来一次加入所有的列表。\n",
    "'''"
   ]
  },
  {
   "cell_type": "code",
   "execution_count": 9,
   "metadata": {},
   "outputs": [
    {
     "name": "stdout",
     "output_type": "stream",
     "text": [
      "795538\n",
      "['with', 'all', 'this', 'stuff', 'going', 'down', 'at', 'the', 'moment', 'with', 'mj', 'i', 've', 'started', 'listening', 'to', 'his', 'music', 'watching', 'the', 'odd', 'documentary', 'here', 'and', 'there', 'watched', 'the', 'wiz', 'and', 'watched', 'moonwalker', 'again']\n"
     ]
    },
    {
     "data": {
      "text/plain": [
       "list"
      ]
     },
     "execution_count": 9,
     "metadata": {},
     "output_type": "execute_result"
    }
   ],
   "source": [
    "# Check how many sentences we have in total - should be around 850,000+\n",
    "print(len(sentences))\n",
    "print(sentences[0])\n",
    "type(sentences[0])"
   ]
  },
  {
   "cell_type": "code",
   "execution_count": 12,
   "metadata": {
    "collapsed": true
   },
   "outputs": [
    {
     "name": "stderr",
     "output_type": "stream",
     "text": [
      "2017-12-03 21:19:14,954 : INFO : 'pattern' package not found; tag filters are not available for English\n",
      "2017-12-03 21:19:14,959 : INFO : collecting all words and their counts\n",
      "2017-12-03 21:19:14,960 : INFO : PROGRESS: at sentence #0, processed 0 words, keeping 0 word types\n",
      "2017-12-03 21:19:15,115 : INFO : PROGRESS: at sentence #10000, processed 225803 words, keeping 17776 word types\n"
     ]
    },
    {
     "name": "stdout",
     "output_type": "stream",
     "text": [
      "Training model...\n"
     ]
    },
    {
     "name": "stderr",
     "output_type": "stream",
     "text": [
      "2017-12-03 21:19:15,178 : INFO : PROGRESS: at sentence #20000, processed 451892 words, keeping 24948 word types\n",
      "2017-12-03 21:19:15,243 : INFO : PROGRESS: at sentence #30000, processed 671315 words, keeping 30034 word types\n",
      "2017-12-03 21:19:15,312 : INFO : PROGRESS: at sentence #40000, processed 897815 words, keeping 34348 word types\n",
      "2017-12-03 21:19:15,383 : INFO : PROGRESS: at sentence #50000, processed 1116963 words, keeping 37761 word types\n",
      "2017-12-03 21:19:15,438 : INFO : PROGRESS: at sentence #60000, processed 1338404 words, keeping 40723 word types\n",
      "2017-12-03 21:19:15,493 : INFO : PROGRESS: at sentence #70000, processed 1561580 words, keeping 43333 word types\n",
      "2017-12-03 21:19:15,546 : INFO : PROGRESS: at sentence #80000, processed 1780887 words, keeping 45714 word types\n",
      "2017-12-03 21:19:15,603 : INFO : PROGRESS: at sentence #90000, processed 2004996 words, keeping 48135 word types\n",
      "2017-12-03 21:19:15,658 : INFO : PROGRESS: at sentence #100000, processed 2226966 words, keeping 50207 word types\n",
      "2017-12-03 21:19:15,714 : INFO : PROGRESS: at sentence #110000, processed 2446580 words, keeping 52081 word types\n",
      "2017-12-03 21:19:15,769 : INFO : PROGRESS: at sentence #120000, processed 2668775 words, keeping 54119 word types\n",
      "2017-12-03 21:19:15,825 : INFO : PROGRESS: at sentence #130000, processed 2894303 words, keeping 55847 word types\n",
      "2017-12-03 21:19:15,878 : INFO : PROGRESS: at sentence #140000, processed 3107005 words, keeping 57346 word types\n",
      "2017-12-03 21:19:15,946 : INFO : PROGRESS: at sentence #150000, processed 3332627 words, keeping 59055 word types\n",
      "2017-12-03 21:19:16,016 : INFO : PROGRESS: at sentence #160000, processed 3555315 words, keeping 60617 word types\n",
      "2017-12-03 21:19:16,085 : INFO : PROGRESS: at sentence #170000, processed 3778655 words, keeping 62077 word types\n",
      "2017-12-03 21:19:16,151 : INFO : PROGRESS: at sentence #180000, processed 3999236 words, keeping 63496 word types\n",
      "2017-12-03 21:19:16,211 : INFO : PROGRESS: at sentence #190000, processed 4224449 words, keeping 64794 word types\n",
      "2017-12-03 21:19:16,267 : INFO : PROGRESS: at sentence #200000, processed 4448603 words, keeping 66087 word types\n",
      "2017-12-03 21:19:16,327 : INFO : PROGRESS: at sentence #210000, processed 4669967 words, keeping 67390 word types\n",
      "2017-12-03 21:19:16,384 : INFO : PROGRESS: at sentence #220000, processed 4894968 words, keeping 68697 word types\n",
      "2017-12-03 21:19:16,439 : INFO : PROGRESS: at sentence #230000, processed 5117545 words, keeping 69958 word types\n",
      "2017-12-03 21:19:16,499 : INFO : PROGRESS: at sentence #240000, processed 5345050 words, keeping 71167 word types\n",
      "2017-12-03 21:19:16,557 : INFO : PROGRESS: at sentence #250000, processed 5559165 words, keeping 72351 word types\n",
      "2017-12-03 21:19:16,629 : INFO : PROGRESS: at sentence #260000, processed 5779146 words, keeping 73478 word types\n",
      "2017-12-03 21:19:16,702 : INFO : PROGRESS: at sentence #270000, processed 6000435 words, keeping 74767 word types\n",
      "2017-12-03 21:19:16,772 : INFO : PROGRESS: at sentence #280000, processed 6226314 words, keeping 76369 word types\n",
      "2017-12-03 21:19:16,842 : INFO : PROGRESS: at sentence #290000, processed 6449474 words, keeping 77839 word types\n",
      "2017-12-03 21:19:16,900 : INFO : PROGRESS: at sentence #300000, processed 6674077 words, keeping 79171 word types\n",
      "2017-12-03 21:19:16,957 : INFO : PROGRESS: at sentence #310000, processed 6899391 words, keeping 80480 word types\n",
      "2017-12-03 21:19:17,029 : INFO : PROGRESS: at sentence #320000, processed 7124278 words, keeping 81808 word types\n",
      "2017-12-03 21:19:17,099 : INFO : PROGRESS: at sentence #330000, processed 7346021 words, keeping 83030 word types\n",
      "2017-12-03 21:19:17,169 : INFO : PROGRESS: at sentence #340000, processed 7575533 words, keeping 84280 word types\n",
      "2017-12-03 21:19:17,238 : INFO : PROGRESS: at sentence #350000, processed 7798803 words, keeping 85425 word types\n",
      "2017-12-03 21:19:17,306 : INFO : PROGRESS: at sentence #360000, processed 8019427 words, keeping 86596 word types\n",
      "2017-12-03 21:19:17,364 : INFO : PROGRESS: at sentence #370000, processed 8246619 words, keeping 87708 word types\n",
      "2017-12-03 21:19:17,424 : INFO : PROGRESS: at sentence #380000, processed 8471766 words, keeping 88878 word types\n",
      "2017-12-03 21:19:17,480 : INFO : PROGRESS: at sentence #390000, processed 8701497 words, keeping 89907 word types\n",
      "2017-12-03 21:19:17,540 : INFO : PROGRESS: at sentence #400000, processed 8924446 words, keeping 90916 word types\n",
      "2017-12-03 21:19:17,598 : INFO : PROGRESS: at sentence #410000, processed 9145796 words, keeping 91880 word types\n",
      "2017-12-03 21:19:17,656 : INFO : PROGRESS: at sentence #420000, processed 9366876 words, keeping 92912 word types\n",
      "2017-12-03 21:19:17,715 : INFO : PROGRESS: at sentence #430000, processed 9594413 words, keeping 93932 word types\n",
      "2017-12-03 21:19:17,773 : INFO : PROGRESS: at sentence #440000, processed 9821166 words, keeping 94906 word types\n",
      "2017-12-03 21:19:17,833 : INFO : PROGRESS: at sentence #450000, processed 10044928 words, keeping 96036 word types\n",
      "2017-12-03 21:19:17,891 : INFO : PROGRESS: at sentence #460000, processed 10277688 words, keeping 97088 word types\n",
      "2017-12-03 21:19:17,952 : INFO : PROGRESS: at sentence #470000, processed 10505613 words, keeping 97933 word types\n",
      "2017-12-03 21:19:18,011 : INFO : PROGRESS: at sentence #480000, processed 10725997 words, keeping 98862 word types\n",
      "2017-12-03 21:19:18,068 : INFO : PROGRESS: at sentence #490000, processed 10952741 words, keeping 99871 word types\n",
      "2017-12-03 21:19:18,128 : INFO : PROGRESS: at sentence #500000, processed 11174397 words, keeping 100765 word types\n",
      "2017-12-03 21:19:18,184 : INFO : PROGRESS: at sentence #510000, processed 11399672 words, keeping 101699 word types\n",
      "2017-12-03 21:19:18,243 : INFO : PROGRESS: at sentence #520000, processed 11623020 words, keeping 102598 word types\n",
      "2017-12-03 21:19:18,301 : INFO : PROGRESS: at sentence #530000, processed 11847418 words, keeping 103400 word types\n",
      "2017-12-03 21:19:18,359 : INFO : PROGRESS: at sentence #540000, processed 12072033 words, keeping 104265 word types\n",
      "2017-12-03 21:19:18,422 : INFO : PROGRESS: at sentence #550000, processed 12297571 words, keeping 105133 word types\n",
      "2017-12-03 21:19:18,479 : INFO : PROGRESS: at sentence #560000, processed 12518861 words, keeping 105997 word types\n",
      "2017-12-03 21:19:18,544 : INFO : PROGRESS: at sentence #570000, processed 12747916 words, keeping 106787 word types\n",
      "2017-12-03 21:19:18,601 : INFO : PROGRESS: at sentence #580000, processed 12969412 words, keeping 107665 word types\n",
      "2017-12-03 21:19:18,662 : INFO : PROGRESS: at sentence #590000, processed 13194937 words, keeping 108501 word types\n",
      "2017-12-03 21:19:18,722 : INFO : PROGRESS: at sentence #600000, processed 13417135 words, keeping 109218 word types\n",
      "2017-12-03 21:19:18,780 : INFO : PROGRESS: at sentence #610000, processed 13638158 words, keeping 110092 word types\n",
      "2017-12-03 21:19:18,844 : INFO : PROGRESS: at sentence #620000, processed 13864483 words, keeping 110837 word types\n",
      "2017-12-03 21:19:18,919 : INFO : PROGRESS: at sentence #630000, processed 14088769 words, keeping 111610 word types\n",
      "2017-12-03 21:19:18,985 : INFO : PROGRESS: at sentence #640000, processed 14309552 words, keeping 112416 word types\n",
      "2017-12-03 21:19:19,056 : INFO : PROGRESS: at sentence #650000, processed 14535308 words, keeping 113196 word types\n",
      "2017-12-03 21:19:19,117 : INFO : PROGRESS: at sentence #660000, processed 14758098 words, keeping 113945 word types\n",
      "2017-12-03 21:19:19,174 : INFO : PROGRESS: at sentence #670000, processed 14981482 words, keeping 114643 word types\n",
      "2017-12-03 21:19:19,244 : INFO : PROGRESS: at sentence #680000, processed 15206314 words, keeping 115354 word types\n",
      "2017-12-03 21:19:19,319 : INFO : PROGRESS: at sentence #690000, processed 15428507 words, keeping 116131 word types\n",
      "2017-12-03 21:19:19,386 : INFO : PROGRESS: at sentence #700000, processed 15657213 words, keeping 116943 word types\n",
      "2017-12-03 21:19:19,453 : INFO : PROGRESS: at sentence #710000, processed 15880202 words, keeping 117596 word types\n",
      "2017-12-03 21:19:19,508 : INFO : PROGRESS: at sentence #720000, processed 16105489 words, keeping 118221 word types\n",
      "2017-12-03 21:19:19,575 : INFO : PROGRESS: at sentence #730000, processed 16331870 words, keeping 118954 word types\n"
     ]
    },
    {
     "name": "stderr",
     "output_type": "stream",
     "text": [
      "2017-12-03 21:19:19,643 : INFO : PROGRESS: at sentence #740000, processed 16552903 words, keeping 119668 word types\n",
      "2017-12-03 21:19:19,708 : INFO : PROGRESS: at sentence #750000, processed 16771230 words, keeping 120295 word types\n",
      "2017-12-03 21:19:19,774 : INFO : PROGRESS: at sentence #760000, processed 16990622 words, keeping 120930 word types\n",
      "2017-12-03 21:19:19,831 : INFO : PROGRESS: at sentence #770000, processed 17217759 words, keeping 121703 word types\n",
      "2017-12-03 21:19:19,888 : INFO : PROGRESS: at sentence #780000, processed 17447905 words, keeping 122402 word types\n",
      "2017-12-03 21:19:19,949 : INFO : PROGRESS: at sentence #790000, processed 17674981 words, keeping 123066 word types\n",
      "2017-12-03 21:19:19,978 : INFO : collected 123504 word types from a corpus of 17798082 raw words and 795538 sentences\n",
      "2017-12-03 21:19:19,979 : INFO : Loading a fresh vocabulary\n",
      "2017-12-03 21:19:20,046 : INFO : min_count=40 retains 16490 unique words (13% of original 123504, drops 107014)\n",
      "2017-12-03 21:19:20,047 : INFO : min_count=40 leaves 17238940 word corpus (96% of original 17798082, drops 559142)\n",
      "2017-12-03 21:19:20,084 : INFO : deleting the raw counts dictionary of 123504 items\n",
      "2017-12-03 21:19:20,088 : INFO : sample=0.001 downsamples 48 most-common words\n",
      "2017-12-03 21:19:20,089 : INFO : downsampling leaves estimated 12749658 word corpus (74.0% of prior 17238940)\n",
      "2017-12-03 21:19:20,089 : INFO : estimated required memory for 16490 words and 300 dimensions: 47821000 bytes\n",
      "2017-12-03 21:19:20,138 : INFO : resetting layer weights\n",
      "2017-12-03 21:19:20,341 : INFO : training model with 4 workers on 16490 vocabulary and 300 features, using sg=0 hs=0 sample=0.001 negative=5 window=10\n",
      "2017-12-03 21:19:21,373 : INFO : PROGRESS: at 1.57% examples, 989143 words/s, in_qsize 7, out_qsize 0\n",
      "2017-12-03 21:19:22,377 : INFO : PROGRESS: at 3.13% examples, 989763 words/s, in_qsize 7, out_qsize 0\n",
      "2017-12-03 21:19:23,382 : INFO : PROGRESS: at 4.69% examples, 984996 words/s, in_qsize 8, out_qsize 0\n",
      "2017-12-03 21:19:24,387 : INFO : PROGRESS: at 6.31% examples, 994437 words/s, in_qsize 7, out_qsize 0\n",
      "2017-12-03 21:19:25,392 : INFO : PROGRESS: at 7.74% examples, 976205 words/s, in_qsize 7, out_qsize 0\n",
      "2017-12-03 21:19:26,394 : INFO : PROGRESS: at 9.41% examples, 991904 words/s, in_qsize 7, out_qsize 0\n",
      "2017-12-03 21:19:27,403 : INFO : PROGRESS: at 11.05% examples, 999064 words/s, in_qsize 7, out_qsize 0\n",
      "2017-12-03 21:19:28,407 : INFO : PROGRESS: at 12.58% examples, 996152 words/s, in_qsize 8, out_qsize 0\n",
      "2017-12-03 21:19:29,409 : INFO : PROGRESS: at 14.09% examples, 992585 words/s, in_qsize 7, out_qsize 0\n",
      "2017-12-03 21:19:30,424 : INFO : PROGRESS: at 15.62% examples, 989907 words/s, in_qsize 6, out_qsize 1\n",
      "2017-12-03 21:19:31,424 : INFO : PROGRESS: at 17.12% examples, 986421 words/s, in_qsize 7, out_qsize 0\n",
      "2017-12-03 21:19:32,428 : INFO : PROGRESS: at 18.62% examples, 984355 words/s, in_qsize 7, out_qsize 0\n",
      "2017-12-03 21:19:33,433 : INFO : PROGRESS: at 20.09% examples, 980401 words/s, in_qsize 7, out_qsize 0\n",
      "2017-12-03 21:19:34,437 : INFO : PROGRESS: at 21.51% examples, 974410 words/s, in_qsize 7, out_qsize 0\n",
      "2017-12-03 21:19:35,442 : INFO : PROGRESS: at 23.00% examples, 972130 words/s, in_qsize 7, out_qsize 0\n",
      "2017-12-03 21:19:36,446 : INFO : PROGRESS: at 24.54% examples, 971899 words/s, in_qsize 7, out_qsize 0\n",
      "2017-12-03 21:19:37,450 : INFO : PROGRESS: at 26.07% examples, 971683 words/s, in_qsize 7, out_qsize 0\n",
      "2017-12-03 21:19:38,460 : INFO : PROGRESS: at 27.39% examples, 963614 words/s, in_qsize 7, out_qsize 0\n",
      "2017-12-03 21:19:39,460 : INFO : PROGRESS: at 28.75% examples, 958802 words/s, in_qsize 7, out_qsize 0\n",
      "2017-12-03 21:19:40,470 : INFO : PROGRESS: at 30.20% examples, 956941 words/s, in_qsize 7, out_qsize 0\n",
      "2017-12-03 21:19:41,480 : INFO : PROGRESS: at 31.69% examples, 956470 words/s, in_qsize 7, out_qsize 0\n",
      "2017-12-03 21:19:42,487 : INFO : PROGRESS: at 33.12% examples, 954324 words/s, in_qsize 7, out_qsize 0\n",
      "2017-12-03 21:19:43,493 : INFO : PROGRESS: at 34.61% examples, 953925 words/s, in_qsize 7, out_qsize 0\n",
      "2017-12-03 21:19:44,496 : INFO : PROGRESS: at 36.09% examples, 953413 words/s, in_qsize 7, out_qsize 0\n",
      "2017-12-03 21:19:45,501 : INFO : PROGRESS: at 37.42% examples, 948839 words/s, in_qsize 7, out_qsize 0\n",
      "2017-12-03 21:19:46,504 : INFO : PROGRESS: at 38.51% examples, 939262 words/s, in_qsize 6, out_qsize 1\n",
      "2017-12-03 21:19:47,505 : INFO : PROGRESS: at 39.83% examples, 935701 words/s, in_qsize 7, out_qsize 0\n",
      "2017-12-03 21:19:48,513 : INFO : PROGRESS: at 41.37% examples, 936969 words/s, in_qsize 8, out_qsize 0\n",
      "2017-12-03 21:19:49,515 : INFO : PROGRESS: at 42.73% examples, 934275 words/s, in_qsize 6, out_qsize 1\n",
      "2017-12-03 21:19:50,524 : INFO : PROGRESS: at 44.15% examples, 932614 words/s, in_qsize 7, out_qsize 0\n",
      "2017-12-03 21:19:51,531 : INFO : PROGRESS: at 45.46% examples, 929339 words/s, in_qsize 7, out_qsize 0\n",
      "2017-12-03 21:19:52,547 : INFO : PROGRESS: at 46.61% examples, 922436 words/s, in_qsize 8, out_qsize 0\n",
      "2017-12-03 21:19:53,547 : INFO : PROGRESS: at 47.79% examples, 917457 words/s, in_qsize 8, out_qsize 0\n",
      "2017-12-03 21:19:54,552 : INFO : PROGRESS: at 48.84% examples, 910168 words/s, in_qsize 8, out_qsize 0\n",
      "2017-12-03 21:19:55,562 : INFO : PROGRESS: at 50.28% examples, 910254 words/s, in_qsize 7, out_qsize 0\n",
      "2017-12-03 21:19:56,569 : INFO : PROGRESS: at 51.58% examples, 908034 words/s, in_qsize 7, out_qsize 0\n",
      "2017-12-03 21:19:57,570 : INFO : PROGRESS: at 52.90% examples, 906301 words/s, in_qsize 7, out_qsize 0\n",
      "2017-12-03 21:19:58,578 : INFO : PROGRESS: at 54.44% examples, 908200 words/s, in_qsize 8, out_qsize 1\n",
      "2017-12-03 21:19:59,581 : INFO : PROGRESS: at 55.96% examples, 909595 words/s, in_qsize 8, out_qsize 0\n",
      "2017-12-03 21:20:00,592 : INFO : PROGRESS: at 57.37% examples, 909130 words/s, in_qsize 6, out_qsize 1\n",
      "2017-12-03 21:20:01,600 : INFO : PROGRESS: at 58.91% examples, 910675 words/s, in_qsize 7, out_qsize 0\n",
      "2017-12-03 21:20:02,605 : INFO : PROGRESS: at 60.36% examples, 911012 words/s, in_qsize 7, out_qsize 0\n",
      "2017-12-03 21:20:03,617 : INFO : PROGRESS: at 61.77% examples, 910355 words/s, in_qsize 6, out_qsize 1\n",
      "2017-12-03 21:20:04,631 : INFO : PROGRESS: at 63.18% examples, 909734 words/s, in_qsize 7, out_qsize 1\n",
      "2017-12-03 21:20:05,651 : INFO : PROGRESS: at 64.82% examples, 912121 words/s, in_qsize 7, out_qsize 0\n",
      "2017-12-03 21:20:06,652 : INFO : PROGRESS: at 66.22% examples, 911551 words/s, in_qsize 8, out_qsize 0\n",
      "2017-12-03 21:20:07,653 : INFO : PROGRESS: at 67.80% examples, 913591 words/s, in_qsize 7, out_qsize 0\n",
      "2017-12-03 21:20:08,657 : INFO : PROGRESS: at 69.42% examples, 916061 words/s, in_qsize 7, out_qsize 0\n",
      "2017-12-03 21:20:09,668 : INFO : PROGRESS: at 70.99% examples, 917572 words/s, in_qsize 7, out_qsize 0\n",
      "2017-12-03 21:20:10,676 : INFO : PROGRESS: at 72.52% examples, 918813 words/s, in_qsize 7, out_qsize 1\n",
      "2017-12-03 21:20:11,683 : INFO : PROGRESS: at 74.04% examples, 919732 words/s, in_qsize 7, out_qsize 0\n",
      "2017-12-03 21:20:12,686 : INFO : PROGRESS: at 75.56% examples, 920558 words/s, in_qsize 7, out_qsize 0\n",
      "2017-12-03 21:20:13,692 : INFO : PROGRESS: at 77.05% examples, 921025 words/s, in_qsize 8, out_qsize 0\n",
      "2017-12-03 21:20:14,698 : INFO : PROGRESS: at 78.62% examples, 922523 words/s, in_qsize 8, out_qsize 0\n",
      "2017-12-03 21:20:15,705 : INFO : PROGRESS: at 80.18% examples, 923711 words/s, in_qsize 7, out_qsize 0\n",
      "2017-12-03 21:20:16,715 : INFO : PROGRESS: at 81.71% examples, 924401 words/s, in_qsize 7, out_qsize 0\n",
      "2017-12-03 21:20:17,723 : INFO : PROGRESS: at 83.36% examples, 926237 words/s, in_qsize 7, out_qsize 0\n",
      "2017-12-03 21:20:18,732 : INFO : PROGRESS: at 84.91% examples, 927152 words/s, in_qsize 8, out_qsize 0\n",
      "2017-12-03 21:20:19,733 : INFO : PROGRESS: at 86.47% examples, 928111 words/s, in_qsize 7, out_qsize 0\n",
      "2017-12-03 21:20:20,742 : INFO : PROGRESS: at 88.01% examples, 928835 words/s, in_qsize 8, out_qsize 0\n",
      "2017-12-03 21:20:21,753 : INFO : PROGRESS: at 89.55% examples, 929613 words/s, in_qsize 7, out_qsize 0\n",
      "2017-12-03 21:20:22,768 : INFO : PROGRESS: at 91.10% examples, 930431 words/s, in_qsize 8, out_qsize 0\n",
      "2017-12-03 21:20:23,789 : INFO : PROGRESS: at 92.61% examples, 930784 words/s, in_qsize 8, out_qsize 1\n",
      "2017-12-03 21:20:24,801 : INFO : PROGRESS: at 94.15% examples, 931486 words/s, in_qsize 7, out_qsize 0\n"
     ]
    },
    {
     "name": "stderr",
     "output_type": "stream",
     "text": [
      "2017-12-03 21:20:25,801 : INFO : PROGRESS: at 95.70% examples, 932330 words/s, in_qsize 7, out_qsize 0\n",
      "2017-12-03 21:20:26,812 : INFO : PROGRESS: at 97.23% examples, 932791 words/s, in_qsize 8, out_qsize 1\n",
      "2017-12-03 21:20:27,815 : INFO : PROGRESS: at 98.79% examples, 933753 words/s, in_qsize 7, out_qsize 0\n",
      "2017-12-03 21:20:28,545 : INFO : worker thread finished; awaiting finish of 3 more threads\n",
      "2017-12-03 21:20:28,559 : INFO : worker thread finished; awaiting finish of 2 more threads\n",
      "2017-12-03 21:20:28,565 : INFO : worker thread finished; awaiting finish of 1 more threads\n",
      "2017-12-03 21:20:28,566 : INFO : worker thread finished; awaiting finish of 0 more threads\n",
      "2017-12-03 21:20:28,567 : INFO : training on 88990410 raw words (63750317 effective words) took 68.2s, 934779 effective words/s\n",
      "2017-12-03 21:20:28,568 : INFO : precomputing L2-norms of word weight vectors\n",
      "2017-12-03 21:20:28,663 : INFO : saving Word2Vec object under 300features_40minwords_10context, separately None\n",
      "2017-12-03 21:20:28,664 : INFO : not storing attribute syn0norm\n",
      "2017-12-03 21:20:28,665 : INFO : not storing attribute cum_table\n",
      "2017-12-03 21:20:29,287 : INFO : saved 300features_40minwords_10context\n"
     ]
    },
    {
     "name": "stdout",
     "output_type": "stream",
     "text": [
      "finished\n"
     ]
    }
   ],
   "source": [
    "# Import the built-in logging module and configure it so that Word2Vec \n",
    "# creates nice output messages\n",
    "import logging\n",
    "logging.basicConfig(format='%(asctime)s : %(levelname)s : %(message)s',level=logging.INFO)\n",
    "\n",
    "# Set values for various parameters\n",
    "num_features = 300    # Word vector dimensionality\n",
    "min_word_count = 40   # Minimum word count\n",
    "num_workers = 4       # Number of threads to run in parallel\n",
    "context = 10          # Context window size\n",
    "downsampling = 1e-3   # Downsample setting for frequent words\n",
    "\n",
    "# Initialize and train the model (this will take some time)\n",
    "from gensim.models import word2vec\n",
    "print(\"Training model...\")\n",
    "model = word2vec.Word2Vec(sentences, workers=num_workers, \\\n",
    "            size=num_features, min_count = min_word_count, \\\n",
    "            window = context, sample = downsampling)\n",
    "\n",
    "# If you don't plan to train the model any further, calling \n",
    "# init_sims will make the model much more memory-efficient.\n",
    "model.init_sims(replace=True)\n",
    "\n",
    "# It can be helpful to create a meaningful model name and \n",
    "# save the model for later use. You can load it later using Word2Vec.load()\n",
    "model_name = \"300features_40minwords_10context\"\n",
    "model.save(model_name)\n",
    "\n",
    "print(\"finished\")"
   ]
  },
  {
   "cell_type": "code",
   "execution_count": 24,
   "metadata": {},
   "outputs": [
    {
     "name": "stderr",
     "output_type": "stream",
     "text": [
      "2017-12-03 22:07:44,800 : INFO : loading Word2Vec object from 300features_40minwords_10context\n",
      "2017-12-03 22:07:46,243 : INFO : loading wv recursively from 300features_40minwords_10context.wv.* with mmap=None\n",
      "2017-12-03 22:07:46,246 : INFO : setting ignored attribute syn0norm to None\n",
      "2017-12-03 22:07:46,248 : INFO : setting ignored attribute cum_table to None\n",
      "2017-12-03 22:07:46,251 : INFO : loaded 300features_40minwords_10context\n"
     ]
    },
    {
     "name": "stdout",
     "output_type": "stream",
     "text": [
      "(16490, 300)\n"
     ]
    },
    {
     "data": {
      "text/plain": [
       "numpy.ndarray"
      ]
     },
     "execution_count": 24,
     "metadata": {},
     "output_type": "execute_result"
    }
   ],
   "source": [
    "# Load the model that we created in Part 2\n",
    "from gensim.models import Word2Vec\n",
    "model = Word2Vec.load(\"300features_40minwords_10context\")\n",
    "print(model.wv.syn0.shape)\n",
    "type(model.wv.syn0)"
   ]
  },
  {
   "cell_type": "code",
   "execution_count": 18,
   "metadata": {
    "collapsed": true
   },
   "outputs": [
    {
     "name": "stdout",
     "output_type": "stream",
     "text": [
      "[  3.85871679e-02  -7.23688155e-02  -8.19106214e-03   2.82320604e-02\n",
      "   1.04096276e-03   2.40982827e-02   2.06237659e-02   5.54499275e-05\n",
      "  -2.09639482e-02  -2.18583457e-02  -2.02633124e-02  -1.37368426e-01\n",
      "  -1.53709993e-01   3.26380841e-02   2.10631285e-02  -4.08282913e-02\n",
      "  -2.45373580e-03  -8.79660472e-02   2.46326234e-02   2.20964924e-02\n",
      "   4.78500389e-02  -2.72775674e-03  -7.31941238e-02   1.56359583e-01\n",
      "   2.21039145e-03   3.85142602e-02  -1.21084657e-02  -3.36776488e-02\n",
      "  -8.30845609e-02  -1.17390186e-01  -1.32657722e-01   9.02198628e-02\n",
      "   7.53517868e-03  -8.66669044e-02  -4.13074754e-02   1.79915689e-02\n",
      "  -7.74041517e-03  -6.07887991e-02   3.36068273e-02  -1.34891057e-02\n",
      "  -1.29281485e-03  -9.74354967e-02   9.28657353e-02   9.07890201e-02\n",
      "   5.70124164e-02  -8.66995677e-02   5.92454150e-02   1.07517214e-02\n",
      "  -1.43770464e-02  -3.92321162e-02   4.54040319e-02  -1.72744915e-02\n",
      "  -9.73502826e-03  -5.55660799e-02  -2.65154745e-02  -4.17449661e-02\n",
      "  -8.78162235e-02   1.14626642e-02   7.46380910e-02  -3.71067263e-02\n",
      "   1.59931332e-02   8.56669527e-03   2.05464736e-02  -9.35611352e-02\n",
      "   6.19252585e-03  -2.07085684e-02   3.55990268e-02   7.51608238e-02\n",
      "  -1.16936803e-01   7.56402239e-02  -1.67189222e-02   1.77527294e-02\n",
      "  -4.79139127e-02  -2.33885497e-02   2.77786124e-02   1.66032147e-02\n",
      "   5.17141167e-03  -6.71271607e-02  -1.94418225e-02  -1.75267346e-02\n",
      "   1.52467247e-02  -6.62583392e-03   2.95890719e-02  -8.69707316e-02\n",
      "  -1.44993486e-02  -6.12973720e-02   3.75013910e-02  -4.50745933e-02\n",
      "   1.08895060e-02  -1.35667816e-01   4.64238189e-02  -1.07818237e-02\n",
      "  -3.41006480e-02   2.62285098e-02  -7.19594955e-02  -7.02294186e-02\n",
      "   5.19796163e-02  -4.07732800e-02  -1.15150884e-02   4.75298759e-04\n",
      "   9.20630023e-02   9.52234939e-02  -1.56209096e-01   1.13972083e-01\n",
      "   3.88397858e-03  -3.84542458e-02   9.24110785e-03   5.35660014e-02\n",
      "  -8.31645280e-02   1.31576369e-02  -6.18418269e-02  -2.71594562e-02\n",
      "  -7.77252913e-02  -5.22245280e-02  -5.81528246e-02  -4.96302694e-02\n",
      "   1.40968245e-02  -2.74402052e-02  -1.13159157e-01  -8.85651261e-02\n",
      "   2.73874844e-03  -1.93470810e-02  -7.92137012e-02  -3.03836130e-02\n",
      "  -3.42735909e-02  -4.69881482e-03   1.01038162e-02   2.30795355e-03\n",
      "   2.89465245e-02   3.31659243e-02  -1.79015601e-03  -6.99129924e-02\n",
      "  -1.84402391e-02   2.73591466e-02   4.87091467e-02  -1.04203206e-02\n",
      "  -1.13362409e-02   2.63608154e-02   3.46117578e-02   1.09929843e-02\n",
      "  -2.01557274e-03   2.10827347e-02   1.11506134e-01  -7.56935403e-02\n",
      "  -7.98372626e-02   1.29115377e-02  -1.02524096e-02   1.03486098e-01\n",
      "  -2.39684898e-02   3.98066528e-02  -4.44730148e-02   6.95035011e-02\n",
      "   1.99004225e-02  -3.36800665e-02  -2.68689711e-02   1.10419855e-01\n",
      "   6.72758147e-02  -5.07640354e-02  -1.66355516e-03  -9.64292362e-02\n",
      "   2.07383074e-02  -2.00892473e-03  -8.81383270e-02  -8.58986867e-04\n",
      "   2.82763280e-02   7.35105481e-03   1.48010729e-02   5.45009738e-03\n",
      "   1.40948957e-02   6.47343695e-02   2.69419374e-03   9.73077118e-02\n",
      "   4.80034342e-03   2.52777245e-02   3.98317017e-02   1.16468677e-02\n",
      "  -3.07215825e-02  -7.77930096e-02  -7.56788328e-02   6.09476455e-02\n",
      "  -6.61932677e-03  -4.89440523e-02   1.94201153e-02   1.78449396e-02\n",
      "  -2.99112294e-02  -4.91427211e-03   2.11635698e-02   4.43880372e-02\n",
      "   2.42574811e-02  -4.63470705e-02   4.52513471e-02   4.55455072e-02\n",
      "  -4.72244211e-02   1.62570179e-02   4.11148481e-02   1.19122423e-01\n",
      "   7.58824646e-02   2.99671516e-02   1.27808824e-01   4.54794616e-03\n",
      "   7.84995314e-03  -4.76790406e-02  -7.85920843e-02   2.40924302e-03\n",
      "  -8.97604674e-02   8.38968679e-02   2.18451936e-02   6.86569959e-02\n",
      "  -1.31513113e-02   1.31525502e-01   1.00031860e-01   3.52330953e-02\n",
      "   8.42015594e-02   4.52572070e-02  -6.95719719e-02   1.47990271e-01\n",
      "  -2.50510704e-02  -4.94248420e-03  -1.96144767e-02  -8.58040005e-02\n",
      "   2.36748885e-02   4.61551696e-02   3.69759798e-02  -4.35838923e-02\n",
      "  -4.02424596e-02   1.07374206e-01   8.16381946e-02   7.95699954e-02\n",
      "   2.77995840e-02   4.12805565e-02   6.53615519e-02  -7.65278414e-02\n",
      "   5.81555143e-02  -1.37494961e-02   8.51336122e-02  -6.09476678e-02\n",
      "  -5.83332181e-02   5.53233288e-02   6.45898953e-02   3.87858599e-02\n",
      "  -6.03646636e-02  -6.31440729e-02   6.12999648e-02  -8.17191154e-02\n",
      "   9.30330977e-02   8.33326206e-02  -7.84607604e-03   4.71285544e-02\n",
      "  -1.00604169e-01  -3.99319977e-02  -3.53683643e-02  -3.72762010e-02\n",
      "   8.25959370e-02  -1.09588224e-02  -1.48072347e-01   1.13050520e-01\n",
      "   4.52051573e-02   6.44066557e-02   3.13182175e-02  -2.02544201e-02\n",
      "   5.83350696e-02  -2.14271378e-02  -6.06806856e-03   3.13322358e-02\n",
      "  -6.48270771e-02   2.03767698e-02  -4.83600050e-02   1.42522913e-03\n",
      "   6.25209510e-02  -4.79228469e-03  -6.88607246e-02   3.37405726e-02\n",
      "   3.47190425e-02   6.66918382e-02   1.99947655e-02  -3.83044370e-02\n",
      "  -6.90433532e-02   8.60636588e-03   5.45673668e-02  -1.63557362e-02\n",
      "   1.02524040e-02   1.80334374e-02   1.22981653e-01  -1.26006454e-02\n",
      "  -3.85877192e-02  -4.34552832e-03  -4.11936603e-02   5.24417944e-02\n",
      "   3.18431333e-02   3.95241156e-02  -5.95383197e-02  -3.13141644e-02\n",
      "   3.95705029e-02   1.28955111e-01  -1.58298966e-02  -8.79921764e-03\n",
      "  -1.06695406e-01  -4.57892980e-04  -2.16457453e-02  -6.83654100e-02]\n"
     ]
    }
   ],
   "source": [
    "print(model[\"flower\"])"
   ]
  },
  {
   "cell_type": "code",
   "execution_count": null,
   "metadata": {
    "collapsed": true
   },
   "outputs": [],
   "source": []
  },
  {
   "cell_type": "code",
   "execution_count": 34,
   "metadata": {
    "collapsed": true
   },
   "outputs": [],
   "source": [
    "# Vector Averaging\n",
    "\n",
    "import numpy as np  # Make sure that numpy is imported\n",
    "\n",
    "def makeFeatureVec(words, model, num_features):\n",
    "    # Function to average all of the word vectors in a given\n",
    "    # paragraph\n",
    "    #\n",
    "    # Pre-initialize an empty numpy array (for speed)\n",
    "    featureVec = np.zeros((num_features,),dtype=\"float32\")\n",
    "    #\n",
    "    nwords = 0.\n",
    "    # \n",
    "    # Index2word is a list that contains the names of the words in \n",
    "    # the model's vocabulary. Convert it to a set, for speed \n",
    "    index2word_set = set(model.wv.index2word)\n",
    "    #\n",
    "    # Loop over each word in the review and, if it is in the model's\n",
    "    # vocaublary, add its feature vector to the total\n",
    "    for word in words:\n",
    "        if word in index2word_set: \n",
    "            nwords = nwords + 1.\n",
    "            featureVec = np.add(featureVec,model[word])\n",
    "    # \n",
    "    # Divide the result by the number of words to get the average\n",
    "    featureVec = np.divide(featureVec,nwords)\n",
    "    return featureVec\n",
    "\n",
    "\n",
    "def getAvgFeatureVecs(reviews, model, num_features):\n",
    "    # Given a set of reviews (each one a list of words), calculate \n",
    "    # the average feature vector for each one and return a 2D numpy array \n",
    "    # \n",
    "    # Initialize a counter\n",
    "    counter = 0.\n",
    "    # \n",
    "    # Preallocate a 2D numpy array, for speed\n",
    "    reviewFeatureVecs = np.zeros((len(reviews),num_features),dtype=\"float32\")\n",
    "    # \n",
    "    # Loop through the reviews\n",
    "    for review in reviews:\n",
    "       #\n",
    "       # Print a status message every 1000th review\n",
    "       if counter%1000. == 0.:\n",
    "           print(\"Review %d of %d\" % (counter, len(reviews)))\n",
    "       # \n",
    "       # Call the function (defined above) that makes average feature vectors\n",
    "       reviewFeatureVecs[counter] = makeFeatureVec(review, model, \\\n",
    "           num_features)\n",
    "       #\n",
    "       # Increment the counter\n",
    "       counter = counter + 1\n",
    "    return reviewFeatureVecs"
   ]
  },
  {
   "cell_type": "code",
   "execution_count": 35,
   "metadata": {},
   "outputs": [
    {
     "name": "stderr",
     "output_type": "stream",
     "text": [
      "/home/hao/anaconda3/lib/python3.6/site-packages/bs4/__init__.py:181: UserWarning: No parser was explicitly specified, so I'm using the best available HTML parser for this system (\"lxml\"). This usually isn't a problem, but if you run this code on another system, or in a different virtual environment, it may use a different parser and behave differently.\n",
      "\n",
      "The code that caused this warning is on line 193 of the file /home/hao/anaconda3/lib/python3.6/runpy.py. To get rid of this warning, change code that looks like this:\n",
      "\n",
      " BeautifulSoup(YOUR_MARKUP})\n",
      "\n",
      "to this:\n",
      "\n",
      " BeautifulSoup(YOUR_MARKUP, \"lxml\")\n",
      "\n",
      "  markup_type=markup_type))\n"
     ]
    },
    {
     "name": "stdout",
     "output_type": "stream",
     "text": [
      "Review 0 of 25000\n"
     ]
    },
    {
     "ename": "IndexError",
     "evalue": "only integers, slices (`:`), ellipsis (`...`), numpy.newaxis (`None`) and integer or boolean arrays are valid indices",
     "output_type": "error",
     "traceback": [
      "\u001b[0;31m---------------------------------------------------------------------------\u001b[0m",
      "\u001b[0;31mIndexError\u001b[0m                                Traceback (most recent call last)",
      "\u001b[0;32m<ipython-input-35-9f0765ebf7dc>\u001b[0m in \u001b[0;36m<module>\u001b[0;34m()\u001b[0m\n\u001b[1;32m      8\u001b[0m     \u001b[0mclean_train_reviews\u001b[0m\u001b[0;34m.\u001b[0m\u001b[0mappend\u001b[0m\u001b[0;34m(\u001b[0m \u001b[0mreview_to_wordlist\u001b[0m\u001b[0;34m(\u001b[0m \u001b[0mreview\u001b[0m\u001b[0;34m,\u001b[0m \u001b[0mremove_stopwords\u001b[0m\u001b[0;34m=\u001b[0m\u001b[0;32mTrue\u001b[0m \u001b[0;34m)\u001b[0m\u001b[0;34m)\u001b[0m\u001b[0;34m\u001b[0m\u001b[0m\n\u001b[1;32m      9\u001b[0m \u001b[0;34m\u001b[0m\u001b[0m\n\u001b[0;32m---> 10\u001b[0;31m \u001b[0mtrainDataVecs\u001b[0m \u001b[0;34m=\u001b[0m \u001b[0mgetAvgFeatureVecs\u001b[0m\u001b[0;34m(\u001b[0m \u001b[0mclean_train_reviews\u001b[0m\u001b[0;34m,\u001b[0m \u001b[0mmodel\u001b[0m\u001b[0;34m,\u001b[0m \u001b[0mnum_features\u001b[0m \u001b[0;34m)\u001b[0m\u001b[0;34m\u001b[0m\u001b[0m\n\u001b[0m\u001b[1;32m     11\u001b[0m \u001b[0;34m\u001b[0m\u001b[0m\n\u001b[1;32m     12\u001b[0m \u001b[0mprint\u001b[0m\u001b[0;34m(\u001b[0m\u001b[0;34m\"Creating average feature vecs for test reviews\"\u001b[0m\u001b[0;34m)\u001b[0m\u001b[0;34m\u001b[0m\u001b[0m\n",
      "\u001b[0;32m<ipython-input-34-a412340de13b>\u001b[0m in \u001b[0;36mgetAvgFeatureVecs\u001b[0;34m(reviews, model, num_features)\u001b[0m\n\u001b[1;32m     46\u001b[0m        \u001b[0;31m#\u001b[0m\u001b[0;34m\u001b[0m\u001b[0;34m\u001b[0m\u001b[0m\n\u001b[1;32m     47\u001b[0m        \u001b[0;31m# Call the function (defined above) that makes average feature vectors\u001b[0m\u001b[0;34m\u001b[0m\u001b[0;34m\u001b[0m\u001b[0m\n\u001b[0;32m---> 48\u001b[0;31m        \u001b[0mreviewFeatureVecs\u001b[0m\u001b[0;34m[\u001b[0m\u001b[0mcounter\u001b[0m\u001b[0;34m]\u001b[0m \u001b[0;34m=\u001b[0m \u001b[0mmakeFeatureVec\u001b[0m\u001b[0;34m(\u001b[0m\u001b[0mreview\u001b[0m\u001b[0;34m,\u001b[0m \u001b[0mmodel\u001b[0m\u001b[0;34m,\u001b[0m            \u001b[0mnum_features\u001b[0m\u001b[0;34m)\u001b[0m\u001b[0;34m\u001b[0m\u001b[0m\n\u001b[0m\u001b[1;32m     49\u001b[0m        \u001b[0;31m#\u001b[0m\u001b[0;34m\u001b[0m\u001b[0;34m\u001b[0m\u001b[0m\n\u001b[1;32m     50\u001b[0m        \u001b[0;31m# Increment the counter\u001b[0m\u001b[0;34m\u001b[0m\u001b[0;34m\u001b[0m\u001b[0m\n",
      "\u001b[0;31mIndexError\u001b[0m: only integers, slices (`:`), ellipsis (`...`), numpy.newaxis (`None`) and integer or boolean arrays are valid indices"
     ]
    }
   ],
   "source": [
    "# ****************************************************************\n",
    "# Calculate average feature vectors for training and testing sets,\n",
    "# using the functions we defined above. Notice that we now use stop word\n",
    "# removal.\n",
    "\n",
    "clean_train_reviews = []\n",
    "for review in train[\"review\"]:\n",
    "    clean_train_reviews.append( review_to_wordlist( review, remove_stopwords=True ))\n",
    "\n",
    "trainDataVecs = getAvgFeatureVecs( clean_train_reviews, model, num_features )\n",
    "\n",
    "print(\"Creating average feature vecs for test reviews\")\n",
    "clean_test_reviews = []\n",
    "for review in test[\"review\"]:\n",
    "    clean_test_reviews.append( review_to_wordlist( review, remove_stopwords=True ))\n",
    "\n",
    "testDataVecs = getAvgFeatureVecs( clean_test_reviews, model, num_features )"
   ]
  },
  {
   "cell_type": "code",
   "execution_count": null,
   "metadata": {
    "collapsed": true
   },
   "outputs": [],
   "source": [
    "# Fit a random forest to the training data, using 100 trees\n",
    "from sklearn.ensemble import RandomForestClassifier\n",
    "forest = RandomForestClassifier( n_estimators = 100 )\n",
    "\n",
    "print \"Fitting a random forest to labeled training data...\"\n",
    "forest = forest.fit( trainDataVecs, train[\"sentiment\"] )\n",
    "\n",
    "# Test & extract results \n",
    "result = forest.predict( testDataVecs )\n",
    "\n",
    "# Write the test results \n",
    "output = pd.DataFrame( data={\"id\":test[\"id\"], \"sentiment\":result} )\n",
    "output.to_csv( \"result/Word2Vec_AverageVectors_RForest.csv\", index=False, quoting=3 )"
   ]
  }
 ],
 "metadata": {
  "kernelspec": {
   "display_name": "Python 3",
   "language": "python",
   "name": "python3"
  },
  "language_info": {
   "codemirror_mode": {
    "name": "ipython",
    "version": 3
   },
   "file_extension": ".py",
   "mimetype": "text/x-python",
   "name": "python",
   "nbconvert_exporter": "python",
   "pygments_lexer": "ipython3",
   "version": "3.6.1"
  }
 },
 "nbformat": 4,
 "nbformat_minor": 2
}
